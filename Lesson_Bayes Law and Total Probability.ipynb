{
 "cells": [
  {
   "cell_type": "markdown",
   "metadata": {},
   "source": [
    "# First Flip [H]"
   ]
  },
  {
   "cell_type": "markdown",
   "metadata": {},
   "source": [
    "## Fair Coin | Head"
   ]
  },
  {
   "cell_type": "markdown",
   "metadata": {},
   "source": [
    "**P(f|h)** = P(h|f) * P(f) / P(h)"
   ]
  },
  {
   "cell_type": "code",
   "execution_count": 36,
   "metadata": {
    "collapsed": true
   },
   "outputs": [],
   "source": [
    "f = .90\n",
    "u = 1 - f\n",
    "ph_f = .5\n",
    "ph_u = .25"
   ]
  },
  {
   "cell_type": "code",
   "execution_count": 37,
   "metadata": {},
   "outputs": [
    {
     "data": {
      "text/plain": [
       "0.9473684210526316"
      ]
     },
     "execution_count": 37,
     "metadata": {},
     "output_type": "execute_result"
    }
   ],
   "source": [
    "tp_h = (ph_f * f) + (ph_u * u)\n",
    "pf_h = (ph_f * f) / tp_h\n",
    "pf_h"
   ]
  },
  {
   "cell_type": "markdown",
   "metadata": {},
   "source": [
    "## Unfair Coin | Head"
   ]
  },
  {
   "cell_type": "markdown",
   "metadata": {},
   "source": [
    "**P(u|h)** = P(h|u) * p(u) / p(h)"
   ]
  },
  {
   "cell_type": "code",
   "execution_count": 38,
   "metadata": {},
   "outputs": [
    {
     "data": {
      "text/plain": [
       "0.05263157894736841"
      ]
     },
     "execution_count": 38,
     "metadata": {},
     "output_type": "execute_result"
    }
   ],
   "source": [
    "pu_h = (ph_u * u) / tp_h\n",
    "pu_h"
   ]
  },
  {
   "cell_type": "markdown",
   "metadata": {},
   "source": [
    "# Second Flip [H, H]"
   ]
  },
  {
   "cell_type": "markdown",
   "metadata": {},
   "source": [
    "## Fair Coin | Head"
   ]
  },
  {
   "cell_type": "code",
   "execution_count": 42,
   "metadata": {},
   "outputs": [
    {
     "data": {
      "text/plain": [
       "0.9735132433783109"
      ]
     },
     "execution_count": 42,
     "metadata": {},
     "output_type": "execute_result"
    }
   ],
   "source": [
    "f = round(pf_h, 3)\n",
    "u = round(pu_h, 3)\n",
    "tp_h = (ph_f * f) + (ph_u * u)\n",
    "pf_h = (ph_f * f) / tp_h\n",
    "pf_h"
   ]
  },
  {
   "cell_type": "markdown",
   "metadata": {},
   "source": [
    "## Unfair Coin | Head"
   ]
  },
  {
   "cell_type": "code",
   "execution_count": 43,
   "metadata": {},
   "outputs": [
    {
     "data": {
      "text/plain": [
       "0.026486756621689155"
      ]
     },
     "execution_count": 43,
     "metadata": {},
     "output_type": "execute_result"
    }
   ],
   "source": [
    "pu_h = (ph_u * u) / tp_h\n",
    "pu_h"
   ]
  },
  {
   "cell_type": "code",
   "execution_count": 45,
   "metadata": {},
   "outputs": [
    {
     "data": {
      "text/plain": [
       "1.0"
      ]
     },
     "execution_count": 45,
     "metadata": {},
     "output_type": "execute_result"
    }
   ],
   "source": [
    "pf_h + pu_h"
   ]
  },
  {
   "cell_type": "markdown",
   "metadata": {},
   "source": [
    "# Coin Flip Loop Exercise"
   ]
  },
  {
   "cell_type": "code",
   "execution_count": 63,
   "metadata": {},
   "outputs": [
    {
     "name": "stdout",
     "output_type": "stream",
     "text": [
      "iteration 0:t fair=0.8571428571428571 biased=0.14285714285714288 total =1.0\n",
      "iteration 1:t fair=0.7999999999999999 biased=0.2 total =1.0\n",
      "iteration 2:t fair=0.7272727272727272 biased=0.27272727272727276 total =1.0\n",
      "iteration 3:h fair=0.8421052631578947 biased=0.1578947368421053 total =1.0\n",
      "iteration 4:t fair=0.7804878048780487 biased=0.21951219512195128 total =1.0\n",
      "iteration 5:t fair=0.7032967032967031 biased=0.29670329670329676 total =0.9999999999999999\n",
      "iteration 6:t fair=0.6124401913875597 biased=0.38755980861244027 total =1.0\n",
      "iteration 7:h fair=0.7596439169139465 biased=0.24035608308605347 total =1.0\n",
      "iteration 8:t fair=0.6781456953642383 biased=0.32185430463576165 total =1.0\n",
      "iteration 9:t fair=0.5841414717626924 biased=0.41585852823730757 total =1.0\n",
      "iteration 10:t fair=0.4835891381345926 biased=0.5164108618654075 total =1.0\n",
      "iteration 11:h fair=0.651917873627248 biased=0.348082126372752 total =1.0\n",
      "iteration 12:t fair=0.5552768928353553 biased=0.4447231071646446 total =0.9999999999999999\n",
      "iteration 13:t fair=0.45426567222114383 biased=0.5457343277788562 total =1.0\n",
      "iteration 14:t fair=0.35688380147467225 biased=0.6431161985253276 total =0.9999999999999999\n",
      "iteration 15:h fair=0.5260344343219486 biased=0.47396556567805126 total =0.9999999999999999\n",
      "iteration 16:t fair=0.425256067925728 biased=0.5747439320742721 total =1.0\n",
      "iteration 17:t fair=0.330328824259531 biased=0.669671175740469 total =1.0\n",
      "iteration 18:t fair=0.24746779847739853 biased=0.7525322015226015 total =1.0\n",
      "iteration 19:h fair=0.39675220278943674 biased=0.6032477972105632 total =1.0\n",
      "iteration 20:t fair=0.3048132438368452 biased=0.6951867561631548 total =1.0\n",
      "iteration 21:t fair=0.2261908145250571 biased=0.7738091854749429 total =1.0\n",
      "iteration 22:t fair=0.1630903925976637 biased=0.8369096074023363 total =1.0\n",
      "iteration 23:h fair=0.28044319450256167 biased=0.7195568054974384 total =1.0\n"
     ]
    }
   ],
   "source": [
    "p_head_fair = 0.5\n",
    "p_head_biased = 0.25\n",
    "p_tail_fair = 1 - p_head_fair\n",
    "p_tail_biased = 1 - p_head_biased\n",
    "p_fair_prior = 0.9\n",
    "p_biased_prior = 0.1\n",
    "# evidence of previous example\n",
    "#E = ['h', 'h']\n",
    "# Fake evidence for fair\n",
    "#E = ['h', 't', 'h', 't', 'h', 't', 'h', 't', 'h', 't', 'h', 't', 'h', 't']\n",
    "# Fake evidence for biased\n",
    "E = ['t', 't', 't', 'h', 't', 't', 't', 'h', 't', 't', 't', 'h', 't', 't', 't', 'h', 't', 't', 't', 'h', 't', 't', 't', 'h']\n",
    "\n",
    "for idx, result in enumerate(E):\n",
    "    \n",
    "    if result == 'h':   \n",
    "        fair_posterior = (p_head_fair*p_fair_prior)/ ((p_head_fair*p_fair_prior) + (p_head_biased*p_biased_prior))\n",
    "        biased_posterior = (p_head_biased*p_biased_prior)/ ((p_head_fair*p_fair_prior) + (p_head_biased*p_biased_prior))\n",
    "                                   \n",
    "    else:\n",
    "        fair_posterior = (p_tail_fair*p_fair_prior)/ ((p_tail_fair*p_fair_prior) + (p_tail_biased*p_biased_prior))\n",
    "        biased_posterior = (p_tail_biased*p_biased_prior)/ ((p_tail_fair*p_fair_prior) + (p_tail_biased*p_biased_prior))\n",
    "                                   \n",
    "    print('iteration {}:{} fair={} biased={} total ={}'.format(idx, result, fair_posterior, biased_posterior, fair_posterior + biased_posterior))\n",
    "    \n",
    "    p_fair_prior = fair_posterior\n",
    "    p_biased_prior = biased_posterior   "
   ]
  }
 ],
 "metadata": {
  "kernelspec": {
   "display_name": "Python 3",
   "language": "python",
   "name": "python3"
  },
  "language_info": {
   "codemirror_mode": {
    "name": "ipython",
    "version": 3
   },
   "file_extension": ".py",
   "mimetype": "text/x-python",
   "name": "python",
   "nbconvert_exporter": "python",
   "pygments_lexer": "ipython3",
   "version": "3.6.3"
  }
 },
 "nbformat": 4,
 "nbformat_minor": 2
}
