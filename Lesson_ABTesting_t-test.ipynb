{
 "cells": [
  {
   "cell_type": "code",
   "execution_count": 7,
   "metadata": {},
   "outputs": [
    {
     "name": "stdout",
     "output_type": "stream",
     "text": [
      "Degrees of freedom = 4\n",
      "xbar = 111.0\n",
      "Standard Deviation = 15.811\n",
      "T-value = 2.132\n",
      "T-statistic = 1.556\n",
      "The t-statistic is greater than the t-value: False\n"
     ]
    }
   ],
   "source": [
    "import scipy.stats as scs\n",
    "import numpy as np\n",
    "numbers = [91,101,111,121,131]\n",
    "mu = 100\n",
    "alpha = 0.05\n",
    "xbar = np.mean(numbers) #use numpy\n",
    "std =  np.std(numbers, ddof=1) #use numpy, be careful with degrees of freedom\n",
    "n = len(numbers) #use a list method\n",
    "dof = n - 1\n",
    "t_value = scs.t.ppf(1-alpha,dof)\n",
    "t_stat = (xbar-mu)/(std/np.sqrt(n)) #use the formula for the t-statistic\n",
    "print (\"Degrees of freedom = {:d}\".format(dof))\n",
    "print (\"xbar = {:0.1f}\".format(xbar))\n",
    "print (\"Standard Deviation = {:0.3f}\".format(std))\n",
    "print (\"T-value = {:0.3f}\".format(t_value))\n",
    "print (\"T-statistic = {:0.3f}\".format(t_stat))\n",
    "print (\"The t-statistic is greater than the t-value: {}\".format(t_stat>t_value))"
   ]
  },
  {
   "cell_type": "code",
   "execution_count": null,
   "metadata": {
    "collapsed": true
   },
   "outputs": [],
   "source": []
  }
 ],
 "metadata": {
  "kernelspec": {
   "display_name": "Python 3",
   "language": "python",
   "name": "python3"
  },
  "language_info": {
   "codemirror_mode": {
    "name": "ipython",
    "version": 3
   },
   "file_extension": ".py",
   "mimetype": "text/x-python",
   "name": "python",
   "nbconvert_exporter": "python",
   "pygments_lexer": "ipython3",
   "version": "3.6.3"
  }
 },
 "nbformat": 4,
 "nbformat_minor": 2
}
