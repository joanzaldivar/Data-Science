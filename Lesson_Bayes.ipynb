{
 "cells": [
  {
   "cell_type": "markdown",
   "metadata": {},
   "source": [
    "# Bayes"
   ]
  },
  {
   "cell_type": "markdown",
   "metadata": {},
   "source": [
    "**Problem:**\n",
    "\n",
    "We have a test that’s marketed as 99% “accurate” (if you have the condition, you’ll test positive 99% of the time; if you don’t have the condition you’ll test negative 99% of the time).  Only 0.5% of the population have the condition (say, for example, lactose intolerance).\n",
    "\n",
    "We pick Sally at random, and we test her.  She tests positive. Does she have the condition?"
   ]
  },
  {
   "cell_type": "markdown",
   "metadata": {},
   "source": [
    "**Given:**\n",
    "\n",
    "    c = 0.05        % of population with condition\n",
    "\n",
    "    P(+|c) = 99\t\tprobability of getting a positive result given you have the condition\n",
    "\n",
    "    P(-|c) = 1\t\tprobability of getting a negative result given you have the condition"
   ]
  },
  {
   "cell_type": "markdown",
   "metadata": {},
   "source": [
    "**Calculate:** \n",
    "\n",
    "    Total population getting a positive result\n",
    "\n",
    "    P(+) = (.99 * 0.005) + (.01 * .995)"
   ]
  },
  {
   "cell_type": "markdown",
   "metadata": {},
   "source": [
    "**Calculate:**\n",
    "\n",
    "    Probability that someone who tested positive does have the condition\n",
    "    \n",
    "**Apply Bayes Theorem:**\n",
    "\n",
    "    P(c|+) = (P(+|c) * P(c)) / P(+)\n",
    "            = 0.99   * 0.005 / ((0.99 * 0.005) + (0.01 * 0.995))\n",
    "\t        = 0.3322"
   ]
  },
  {
   "cell_type": "markdown",
   "metadata": {
    "collapsed": true
   },
   "source": [
    "# Naive Bayes"
   ]
  },
  {
   "cell_type": "code",
   "execution_count": null,
   "metadata": {
    "collapsed": true
   },
   "outputs": [],
   "source": []
  }
 ],
 "metadata": {
  "kernelspec": {
   "display_name": "Python 3",
   "language": "python",
   "name": "python3"
  },
  "language_info": {
   "codemirror_mode": {
    "name": "ipython",
    "version": 3
   },
   "file_extension": ".py",
   "mimetype": "text/x-python",
   "name": "python",
   "nbconvert_exporter": "python",
   "pygments_lexer": "ipython3",
   "version": "3.6.3"
  }
 },
 "nbformat": 4,
 "nbformat_minor": 2
}
