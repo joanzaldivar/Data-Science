{
 "cells": [
  {
   "cell_type": "markdown",
   "metadata": {},
   "source": [
    "# Comprehensions"
   ]
  },
  {
   "cell_type": "markdown",
   "metadata": {},
   "source": [
    "List comprehension with if/else"
   ]
  },
  {
   "cell_type": "code",
   "execution_count": 2,
   "metadata": {
    "collapsed": true
   },
   "outputs": [],
   "source": [
    "s = ['this', 'is', 'lower case']\n",
    "y = [x.title() if x is not None else 'nothing, alas' for x in s ]"
   ]
  },
  {
   "cell_type": "code",
   "execution_count": 3,
   "metadata": {},
   "outputs": [
    {
     "data": {
      "text/plain": [
       "['This', 'Is', 'Lower Case']"
      ]
     },
     "execution_count": 3,
     "metadata": {},
     "output_type": "execute_result"
    }
   ],
   "source": [
    "y"
   ]
  },
  {
   "cell_type": "code",
   "execution_count": 5,
   "metadata": {
    "collapsed": true
   },
   "outputs": [],
   "source": [
    "y = [x.title() if x[0] in 'aeiou' else x.upper() for x in s ]"
   ]
  },
  {
   "cell_type": "code",
   "execution_count": 6,
   "metadata": {},
   "outputs": [
    {
     "data": {
      "text/plain": [
       "['THIS', 'Is', 'LOWER CASE']"
      ]
     },
     "execution_count": 6,
     "metadata": {},
     "output_type": "execute_result"
    }
   ],
   "source": [
    "y"
   ]
  },
  {
   "cell_type": "markdown",
   "metadata": {},
   "source": [
    "# OOP\n",
    "Object-oriented Programming"
   ]
  },
  {
   "cell_type": "code",
   "execution_count": 7,
   "metadata": {},
   "outputs": [
    {
     "name": "stdout",
     "output_type": "stream",
     "text": [
      "creating a cat instance with name Nacho...\n",
      "creating a cat instance with name Maya...\n",
      "Hi! I'm Nacho, a domestic shorthair cat.  I love belly rubs.\n",
      "Hi! I'm Maya, a tabby cat.  I love chasing mice.\n"
     ]
    }
   ],
   "source": [
    "class Cat:\n",
    "    def __init__(self, name, breed, vice):\n",
    "        print(\"creating a cat instance with name {}...\".format(name))\n",
    "        self.name = name\n",
    "        self.breed = breed\n",
    "        self.vice = vice\n",
    "    \n",
    "    def introduce_self(self):\n",
    "        print(\"Hi! I'm {}, a {} cat.  I love {}.\".format(self.name, self.breed, self.vice))\n",
    "              \n",
    "c1 = Cat(\"Nacho\", \"domestic shorthair\", \"belly rubs\")\n",
    "c2 = Cat(\"Maya\", \"tabby\", \"chasing mice\")\n",
    "              \n",
    "c1.introduce_self()\n",
    "c2.introduce_self()              \n",
    "              \n",
    "              \n",
    "              "
   ]
  },
  {
   "cell_type": "markdown",
   "metadata": {},
   "source": [
    "## OOP Challenge:\n",
    "### Objectives:\n",
    "Without using OOP, solve as much of this problem as you can (take note of where you struggle and why):\n",
    "\n",
    "You have one bag of dice.  It holds many dice that have different numbers of sides.  It has: 1d4, 2d6, 4d8, 2d10, 1d12, 3d20.  \n",
    "\n",
    "You pull 3 dice out of the bag at random and set them aside.  \n",
    "\n",
    "Then, you pull 2 dice out of the bag at random and roll them.  \n",
    "\n",
    "What is their sum?"
   ]
  },
  {
   "cell_type": "code",
   "execution_count": null,
   "metadata": {
    "collapsed": true
   },
   "outputs": [],
   "source": [
    "#variables\n",
    "sides\n",
    "count\n",
    "\n",
    "dice = []\n",
    "#1d4\n",
    "dice.append[4]\n",
    "#2d6\n",
    "dice.append[6]\n",
    "dice.append[6]\n",
    "#4d8\n",
    "dice.append[8]\n",
    "dice.append[8]\n",
    "dice.append[8]\n",
    "dice.append[8]\n",
    "#2d10\n",
    "dice.append[10]\n",
    "dice.append[10]\n",
    "#1d12\n",
    "dice.append[12]\n",
    "#13d20  \n",
    "for x in \n",
    "dice.append[(3, 20)]\n",
    "\n",
    "#functions\n",
    "pick_dice(dice_count)\n",
    "\n",
    "def pick_dice:\n",
    "    #use random to pick x number of dice\n",
    "    random\n",
    "\n",
    "roll(count)\n",
    "sum()\n"
   ]
  }
 ],
 "metadata": {
  "kernelspec": {
   "display_name": "Python 3",
   "language": "python",
   "name": "python3"
  },
  "language_info": {
   "codemirror_mode": {
    "name": "ipython",
    "version": 3
   },
   "file_extension": ".py",
   "mimetype": "text/x-python",
   "name": "python",
   "nbconvert_exporter": "python",
   "pygments_lexer": "ipython3",
   "version": "3.6.3"
  }
 },
 "nbformat": 4,
 "nbformat_minor": 2
}
