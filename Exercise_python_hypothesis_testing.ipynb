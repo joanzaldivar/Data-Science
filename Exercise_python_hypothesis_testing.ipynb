{
 "cells": [
  {
   "cell_type": "markdown",
   "metadata": {},
   "source": [
    "T or Z? If $\\sigma$ is unknown and we have to estimate it, use t. If we're not estimating $\\sigma$, use z. That said, if you're estimating $\\sigma$ and you have >30, you can use z too, since z approximates t when n > 30. If you're not sure, go with t, as it's more conservative and approaches z anyway with more data points.\n",
    "\n",
    "http://rpsychologist.com/d3/tdist/ example"
   ]
  },
  {
   "cell_type": "markdown",
   "metadata": {},
   "source": [
    "# One Sample Test of Population Mean\n",
    "\n",
    "**Problem**: On average, a patient should take 20mg of Vinceadrine per day. A large drug company believes more Vinceadrine than this is consumed. They obtained anonimous drug data from 7 random patients and found that they consumed the following amounts of Vinceadrine: 20, 30, 25, 25, 30, 15, 40. Is there sufficient evidence to say that the amount consumed is higher?"
   ]
  },
  {
   "cell_type": "markdown",
   "metadata": {},
   "source": [
    "Step 1 Define our hypotheses:\n",
    "\n",
    "$H_0$: $\\mu$ <= 20\n",
    "\n",
    "$H_1$: $\\mu$ > 20\n",
    "\n",
    "Step 2 Determine the appropriate test and level of significance:\n",
    "\n",
    "1-tailed test, $\\alpha$ = 0.05\n",
    "\n",
    "Step 3 Calculate our test statistic:\n",
    "\n",
    "$t= \\frac{\\bar{x}-\\mu}{\\frac{s}{\\sqrt{n}}}$\n",
    "\n",
    "Step 4 Compare our test statistic to the critical value:\n",
    "\n",
    "$t$ > critical value?\n",
    "\n",
    "Step 5:\n",
    "\n",
    "Depending on the results of our comparison between our test statistic and our critical value, we reject or fail to reject null hypothesis"
   ]
  },
  {
   "cell_type": "code",
   "execution_count": 12,
   "metadata": {},
   "outputs": [
    {
     "name": "stdout",
     "output_type": "stream",
     "text": [
      "Degrees of freedom = 6\n",
      "xbar = 26.4\n",
      "Standard Deviation = 8.018\n",
      "T-value = 1.943\n",
      "T-statistic = 2.121\n",
      "The t-statistic is greater than the t-value: True\n",
      "We should reject the null hypothesis\n"
     ]
    }
   ],
   "source": [
    "import scipy.stats as scs\n",
    "import numpy as np\n",
    "numbers = [20, 30, 25, 25, 30, 15, 40]\n",
    "mu = 20\n",
    "alpha = 0.05\n",
    "xbar = np.mean(numbers)\n",
    "std = np.std(numbers, ddof=1)\n",
    "n = len(numbers)\n",
    "dof = n - 1\n",
    "t_value = scs.t.ppf(1-alpha, dof)\n",
    "t_stat = (xbar - mu)/(std/np.sqrt(n))\n",
    "\n",
    "print(\"Degrees of freedom = {:d}\".format(dof))\n",
    "print(\"xbar = {:0.1f}\".format(xbar))\n",
    "print(\"Standard Deviation = {:0.3f}\".format(std))\n",
    "print(\"T-value = {:0.3f}\".format(t_value))\n",
    "print(\"T-statistic = {:0.3f}\".format(t_stat))\n",
    "\n",
    "reject = t_stat > t_value\n",
    "print(\"The t-statistic is greater than the t-value: {}\".format(reject))\n",
    "print(\"We should \" + ('' if reject else 'not ') + \"reject the null hypothesis\")"
   ]
  },
  {
   "cell_type": "markdown",
   "metadata": {},
   "source": [
    "# Another Sample Test of Population Mean\n",
    "\n",
    "**Problem**: Let's say the received knowledge, status-quo understanding of the average IQ of DSI students is 100.  (IQ tests are designed so the population average is 100.)  But, we think that all our students are really smart and that perhaps the actual average IQ of a DSI 201 student is higher than 100.\n",
    "To test this we randomly sample 5 students and find the following scores: 91,101,111,121,131.\n",
    "Is there sufficient evidence to say that the average IQ is higher?"
   ]
  },
  {
   "cell_type": "markdown",
   "metadata": {},
   "source": [
    "Step 1 Define our hypotheses:\n",
    "\n",
    "$H_0$: $\\mu$ <= 100\n",
    "\n",
    "$H_1$: $\\mu$ > 100\n",
    "\n",
    "Step 2 Determine the appropriate test and level of significance:\n",
    "\n",
    "1-tailed test, $\\alpha$ = 0.05\n",
    "\n",
    "Step 3 Calculate our test statistic:\n",
    "\n",
    "$t= \\frac{\\bar{x}-\\mu}{\\frac{s}{\\sqrt{n}}}$\n",
    "\n",
    "Step 4 Compare our test statistic to the critical value:\n",
    "\n",
    "$t$ > critical value?\n",
    "\n",
    "Step 4:\n",
    "\n",
    "Depending on the results of our comparison between our test statistic and our critical value, we reject or fail to reject null hypothesis"
   ]
  },
  {
   "cell_type": "raw",
   "metadata": {},
   "source": [
    "import scipy.stats as scs\n",
    "import numpy as np\n",
    "numbers = \n",
    "mu =\n",
    "alpha =\n",
    "xbar = #use numpy\n",
    "std = #use numpy, be careful with degrees of freedom\n",
    "n= #use a list method\n",
    "dof = \n",
    "t_value = scs.t.ppf(1-alpha,dof)\n",
    "t_stat = #use the formula for the t-statistic\n",
    "print \"Degrees of freedom = {:d}\".format(dof)\n",
    "print \"xbar = {:0.1f}\".format(xbar)\n",
    "print \"Standard Deviation = {:0.3f}\".format(std)\n",
    "print \"T-value = {:0.3f}\".format(t_value)\n",
    "print \"T-statistic = {:0.3f}\".format(t_stat)\n",
    "print \"The t-statistic is greater than the t-value: {}\".format(t_stat>t_value)"
   ]
  },
  {
   "cell_type": "code",
   "execution_count": 19,
   "metadata": {},
   "outputs": [
    {
     "name": "stdout",
     "output_type": "stream",
     "text": [
      "Degrees of freedom = 4\n",
      "xbar = 111.0\n",
      "Standard Deviation = 15.811\n",
      "T-value = 2.132\n",
      "T-statistic = 1.556\n",
      "The t-statistic is greater than the t-value: False\n",
      "The t-statistic is greater than the t-value: False\n",
      "We should not reject the null hypothesis\n"
     ]
    }
   ],
   "source": [
    "import scipy.stats as scs\n",
    "import numpy as np\n",
    "numbers = [91,101,111,121,131]\n",
    "mu = 100\n",
    "alpha = 0.05\n",
    "xbar = np.mean(numbers)\n",
    "std = np.std(numbers, ddof=1)\n",
    "n= len(numbers)\n",
    "dof = n-1\n",
    "t_value = scs.t.ppf(1-alpha,dof)\n",
    "t_stat_man = (xbar - mu)/(std / np.sqrt(n))\n",
    "print(\"Degrees of freedom = {:d}\".format(dof))\n",
    "print(\"xbar = {:0.1f}\".format(xbar))\n",
    "print( \"Standard Deviation = {:0.3f}\".format(std))\n",
    "print( \"T-value = {:0.3f}\".format(t_value))\n",
    "print( \"T-statistic = {:0.3f}\".format(t_stat_man))\n",
    "print( \"The t-statistic is greater than the t-value: {}\".format(t_stat_man>t_value))\n",
    "\n",
    "reject = t_stat_man > t_value\n",
    "print(\"The t-statistic is greater than the t-value: {}\".format(reject))\n",
    "print(\"We should \" + ('' if reject else 'not ') + \"reject the null hypothesis\")"
   ]
  },
  {
   "cell_type": "code",
   "execution_count": 20,
   "metadata": {},
   "outputs": [
    {
     "name": "stdout",
     "output_type": "stream",
     "text": [
      "T-stat = 1.556\n",
      "P-value = 0.195\n",
      "The p-value is less than alpha: False\n",
      "We should not reject the null hypothesis\n"
     ]
    }
   ],
   "source": [
    "t_stat, p_value = scs.ttest_1samp(numbers, mu)\n",
    "print(\"T-stat = {:0.3f}\".format(t_stat))\n",
    "print(\"P-value = {:0.3f}\".format(p_value))\n",
    "\n",
    "reject_p = p_value < alpha\n",
    "print(\"The p-value is less than alpha: {}\".format(reject_p))\n",
    "print(\"We should \" + ('' if reject_p else 'not ') + \"reject the null hypothesis\")"
   ]
  },
  {
   "cell_type": "code",
   "execution_count": 92,
   "metadata": {
    "scrolled": true
   },
   "outputs": [
    {
     "data": {
      "text/plain": [
       "0.11595196008756595"
      ]
     },
     "execution_count": 92,
     "metadata": {},
     "output_type": "execute_result"
    }
   ],
   "source": [
    "p_val = scs.t.sf(np.abs(t_stat_man), dof)*2\n",
    "p_val"
   ]
  },
  {
   "cell_type": "markdown",
   "metadata": {},
   "source": [
    "# One Sample Test of Population Proportion\n",
    "\n",
    "Problem: Suppose my girlfriend and I flip a coin to see who has to do the dishes. She believes that I'm being nice and losing on purpose (i.e. my chances of winning < 50%). In the random sample of 200 days out of the year, I only won 82 times. Was I rigging the coin toss?\n",
    "\n",
    "Step 1:\n",
    "\n",
    "$H_0$: p >= 0.5\n",
    "\n",
    "$H_1$: p < 0.5\n",
    "\n",
    "Step 2:\n",
    "\n",
    "1-tailed test, $\\alpha$ = 0.01\n",
    "\n",
    "Step 3:\n",
    "\n",
    "Z-test: Rough rule to see if z-test is okay is if $\\hat{p}$N > 5 and (1-$\\hat{p}$)N > 5\n",
    "\n",
    "$z = \\frac{\\hat{p}-p}{\\sqrt{\\frac{{p}(1-{p})}{n}}}$ > critical value?\n",
    "\n",
    "Step 4:\n",
    "\n",
    "Reject or fail to reject null hypothesis"
   ]
  },
  {
   "cell_type": "code",
   "execution_count": 93,
   "metadata": {
    "scrolled": true
   },
   "outputs": [
    {
     "name": "stdout",
     "output_type": "stream",
     "text": [
      "Phat = 0.4\n",
      "z-value = -2.326\n",
      "z-stat = -2.546\n",
      "The z-stat is less than the z-value: True\n"
     ]
    }
   ],
   "source": [
    "total = 200\n",
    "won = 82\n",
    "p = 0.5\n",
    "phat = won/total\n",
    "z_value = scs.norm.ppf(alpha)\n",
    "z_stat = (phat - p)/np.sqrt((p*(1-p)/total))\n",
    "\n",
    "print(\"Phat = {:0.1f}\".format(phat))\n",
    "print(\"z-value = {:0.3f}\".format(z_value))\n",
    "print(\"z-stat = {:0.3f}\".format(z_stat))\n",
    "print(\"The z-stat is less than the z-value: {}\".format(z_stat < z_value))"
   ]
  },
  {
   "cell_type": "markdown",
   "metadata": {},
   "source": [
    "# Two Sample Comparison of Means\n",
    "\n",
    "Problem: Is the average price of a bottle of lemonade in Oakland different than the average price of a drink in San Francisco? A sample of drinks from San Francisco stores was taken and the prices of the drinks in the sample were 2.69, 1.50, 3.49, 4.69, 2.89. A sample of drinks from Oakland stores was taken and the prices of the drinks in the sample were 2.19, 1.10, 1.49, 2.69, 1.89.   \n",
    "\n",
    "Step 1:\n",
    "\n",
    "$H_0$: $\\mu_1 - \\mu_2 = D$ (D can be 0 when you just want to know if they're different)\n",
    "\n",
    "$H_1$: $\\mu_1 - \\mu_2 \\neq D$\n",
    "\n",
    "Step 2:\n",
    "\n",
    "Choose level of significance, $\\alpha$\n",
    "\n",
    "Step 3:\n",
    "\n",
    "$t= \\frac{\\bar{x1}-\\bar{x2}-D}{\\sqrt{\\frac{s_1^2}{{n_1}}+\\frac{s_2^2}{{n_2}}}}$ > critical value?\n",
    "\n",
    "Step 4:\n",
    "\n",
    "Reject or fail to reject null hypothesis"
   ]
  },
  {
   "cell_type": "code",
   "execution_count": 99,
   "metadata": {
    "scrolled": true
   },
   "outputs": [
    {
     "name": "stdout",
     "output_type": "stream",
     "text": [
      "Degrees of freedom = 4\n",
      "xbar = 111.0\n",
      "Standard Deviation = 15.811\n",
      "T-value = 2.132\n",
      "T-statistic = 2.001\n",
      "The t-statistic is greater than the t-value: False\n",
      "The t-statistic is greater than the t-value: False\n",
      "We should not reject the null hypothesis\n"
     ]
    }
   ],
   "source": [
    "sf = [2.69, 1.50, 3.49, 4.69, 2.89]\n",
    "oak = [2.19, 1.10, 1.49, 2.69, 1.89]\n",
    "alpha = 0.05\n",
    "sf_xbar = np.mean(sf)\n",
    "oak_xbar = np.mean(oak)\n",
    "sf_std = np.std(sf, ddof=1)\n",
    "oak_std = np.std(oak, ddof=1)\n",
    "sf_n= len(sf)\n",
    "oak_n= len(oak)\n",
    "dof = sf_n-1\n",
    "t_value = scs.t.ppf(1-alpha,dof)\n",
    "t_stat_man = (sf_xbar - oak_xbar)/np.sqrt((sf_std**2/sf_n)+(oak_std**2/oak_n))\n",
    "print(\"Degrees of freedom = {:d}\".format(dof))\n",
    "print(\"xbar = {:0.1f}\".format(xbar))\n",
    "print( \"Standard Deviation = {:0.3f}\".format(std))\n",
    "print( \"T-value = {:0.3f}\".format(t_value))\n",
    "print( \"T-statistic = {:0.3f}\".format(t_stat_man))\n",
    "print( \"The t-statistic is greater than the t-value: {}\".format(t_stat_man>t_value))\n",
    "\n",
    "reject = t_stat_man > t_value\n",
    "print(\"The t-statistic is greater than the t-value: {}\".format(reject))\n",
    "print(\"We should \" + ('' if reject else 'not ') + \"reject the null hypothesis\")"
   ]
  },
  {
   "cell_type": "markdown",
   "metadata": {},
   "source": [
    "# Two Sample Comparison of Proportions\n",
    "Problem: Are the clickthrough rates different on version 1 versus version 2 of our website? We took data from 1200 visitors for a week of traffic through each version of the page, and found that the CTR for version 1 is 0.04 and the CTR for version 2 is 0.06.\n",
    "\n",
    "Step 1:\n",
    "\n",
    "$H_0$: $p_1 - p_2 = D$\n",
    "\n",
    "$H_1$: $p_1 - p_2 \\neq D$\n",
    "\n",
    "(Can set $D$ to 0 here to just see if they're the same, or can set it to something else to see if version 2 changed our clickthrough rate by some particular amount.)\n",
    "\n",
    "Step 2:\n",
    "\n",
    "choose level of significance $\\alpha$\n",
    "\n",
    "Step 3:\n",
    "\n",
    "Z-test: Rough rule to see if z-test is okay is if pN > 5 and p(1-n) > 5\n",
    "\n",
    "$z = \\frac{\\hat{p_1}-\\hat{p_2}-D}{\\sqrt{\\frac{\\hat{p_1}(1-\\hat{p_1})}{n_1}+\\frac{\\hat{p_2}(1-\\hat{p_2})}{n_2}}}$ > critical value?\n",
    "\n",
    "Step 4:\n",
    "\n",
    "Reject or fail to reject null hypothesis"
   ]
  },
  {
   "cell_type": "code",
   "execution_count": 97,
   "metadata": {},
   "outputs": [
    {
     "name": "stdout",
     "output_type": "stream",
     "text": [
      "Z-val: -2.3263478740408408\n",
      "Z-stat: -2.2501758018520475\n",
      "The z-stat is less than the z-value: False\n"
     ]
    }
   ],
   "source": [
    "n1 = 1200\n",
    "n2 = 1200\n",
    "phat1 = 0.04\n",
    "phat2 = 0.06\n",
    "alpha = 0.01\n",
    "z_value = scs.norm.ppf(alpha)\n",
    "z_stat = (phat1-phat2)/(np.sqrt((phat1*(1-phat1)/n1)+(phat2*(1-phat2)/n2)))\n",
    "print(\"Z-val: {}\".format(z_value))\n",
    "print(\"Z-stat: {}\".format(z_stat))\n",
    "print(\"The z-stat is less than the z-value: {}\".format(z_stat < z_value))\n"
   ]
  },
  {
   "cell_type": "markdown",
   "metadata": {
    "collapsed": true
   },
   "source": [
    "# Chi-Square Goodness of Fit Test\n",
    "How well does the expected model fit the data?\n",
    "\n",
    "This is for cases where the observations fall into bins and the chance that an observation falls into a bin is a certain percentage.\n",
    "\n",
    "Bins might be hours, days, type of customer (premium, paid, free)\n",
    "ex. did the expected number of users of the app each day match reality?\n",
    "\n",
    "# Goodness of Fit - Example\n",
    "$$\\chi^2 = \\sum_{i} \\frac{(O_i - E_i)^2}{E_i}$$\n",
    "Dice Game:\n",
    "\n",
    "|Value  |Observed Frequency|Expected Frequency|\n",
    "|-------|------------------|------------------|\n",
    "|1      |16                |?                 |\n",
    "|2\t    |5\t               |?                 |\n",
    "|3\t    |9\t               |?                 |\n",
    "|4\t    |7\t               |?                 |\n",
    "|5\t    |6\t               |?                 |\n",
    "|6\t    |17\t               |?                 |\n",
    "|Total\t|60\t               |?                 |\n",
    "\n",
    "Goodness of Fit - Example\n",
    "$$\\chi^2 = \\sum_{i} \\frac{(O_i - E_i)^2}{E_i}$$\n",
    "Dice Game:\n",
    "\n",
    "\n",
    "|Value  |Observed Frequency|Expected Frequency|\n",
    "|-------|------------------|------------------|\n",
    "|1      |16                |                10|\n",
    "|2\t    |5\t               |10                |\n",
    "|3\t    |9\t               |10                |\n",
    "|4\t    |7\t               |10                |\n",
    "|5\t    |6\t               |10                |\n",
    "|6\t    |17\t               |10                |\n",
    "|Total\t|60\t               |60                |"
   ]
  },
  {
   "cell_type": "markdown",
   "metadata": {},
   "source": [
    "```obs_table = # use an np array\n",
    "exp_table = #use an np array\n",
    "chi2_stat = # use the chi2 formula\n",
    "print \"Chi2 Statistic: {}\".format(chi2_stat)\n",
    "print \"Critical Chi2 Value: {:0.2f}\".format(scs.chi2.ppf(0.95,5))```"
   ]
  },
  {
   "cell_type": "code",
   "execution_count": 98,
   "metadata": {},
   "outputs": [
    {
     "name": "stdout",
     "output_type": "stream",
     "text": [
      "Chi2 Statistic: 13.6\n",
      "Critical Chi2 Value: 11.07\n"
     ]
    }
   ],
   "source": [
    "obs_table = np.array([16,5,9,7,6,17])\n",
    "exp_table = np.array([10,10,10,10,10,10])\n",
    "chi2_stat = sum((exp_table - obs_table)**2/exp_table)\n",
    "print(\"Chi2 Statistic: {}\".format(chi2_stat))\n",
    "print(\"Critical Chi2 Value: {:0.2f}\".format(scs.chi2.ppf(0.95,5)))"
   ]
  },
  {
   "cell_type": "code",
   "execution_count": 91,
   "metadata": {},
   "outputs": [
    {
     "data": {
      "text/plain": [
       "Power_divergenceResult(statistic=13.6, pvalue=0.018360196409519448)"
      ]
     },
     "execution_count": 91,
     "metadata": {},
     "output_type": "execute_result"
    }
   ],
   "source": [
    "obs_table = np.array([16,5,9,7,6,17])\n",
    "exp_table = np.array([10,10,10,10,10,10])\n",
    "scs.chisquare(obs_table,exp_table)"
   ]
  },
  {
   "cell_type": "markdown",
   "metadata": {
    "collapsed": true
   },
   "source": [
    "# Bonferroni Correction\n",
    "\n",
    "\n",
    "P(A) + P(B) - P(A$\\cap$B) $\\Rightarrow$ 0.05 + 0.05 - ?\n",
    "\n",
    "$\\frac{0.05+0.05}{2}$ $\\rightarrow$ new $\\alpha$"
   ]
  },
  {
   "cell_type": "markdown",
   "metadata": {},
   "source": [
    "# Bonferroni Correction\n",
    "\n",
    "20 sample case\n",
    "\n",
    "$\\frac{\\alpha}{n} = \\frac{0.05}{20} = 0.0025$\n",
    "\n",
    "$P$(one significant result) $=$ $1 - P$(no significant results)\n",
    "\n",
    "$P$(one significant result) $=$ $1-(1-0.0025)^{20}$ $=$ $0.0488$\n",
    "\n",
    "$\\Rightarrow$ Bonferroni is slightly conservative. That's good."
   ]
  },
  {
   "cell_type": "code",
   "execution_count": null,
   "metadata": {
    "collapsed": true
   },
   "outputs": [],
   "source": []
  }
 ],
 "metadata": {
  "kernelspec": {
   "display_name": "Python 3",
   "language": "python",
   "name": "python3"
  },
  "language_info": {
   "codemirror_mode": {
    "name": "ipython",
    "version": 3
   },
   "file_extension": ".py",
   "mimetype": "text/x-python",
   "name": "python",
   "nbconvert_exporter": "python",
   "pygments_lexer": "ipython3",
   "version": "3.6.3"
  }
 },
 "nbformat": 4,
 "nbformat_minor": 2
}
