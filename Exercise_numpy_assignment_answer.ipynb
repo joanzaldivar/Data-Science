{
 "cells": [
  {
   "cell_type": "markdown",
   "metadata": {},
   "source": [
    "# Instructions \n",
    "\n",
    "For the first part of tonight's assignment, we'll be solving problems by using `numpy`. Since `Pandas` is built on top of `numpy`, it's good to be familiar with `numpy` and know what it provides. Below, we'll ask that you solve questions **by using `numpy`**. While you could answer the questions below without using `numpy` arrays, the focus of these questions is for you to use `numpy` arrays and get familiar with their methods (there are a lot of them). Remember how fast they are compared to the `list` as an alternative! \n",
    "\n",
    "As a final note, a lot of the questions below are kind of simplistic, and could possibly be written in a single line or two. As such, you might wonder why we're asking you to write functions for them, or why they are even questions at all. As you've hopefully found throughout this course, programming skills increase quite a bit simply through repetition, which is a majority of the reason we've asked you to write functions for each question below. After tonight, you will hopefully never forget that when we define a function in Python, it starts with `def my_func_name():`. In addition, these one off functions will get you exposure to some of the most common and useful methods available on a `numpy array`. \n",
    "\n",
    "# Assignment Questions\n",
    "\n",
    "**Hint**: [Broadcasting](http://docs.scipy.org/doc/numpy-1.10.1/user/basics.broadcasting.html) is a concept that will be particularly useful here. \n",
    "\n",
    "Write a function that takes in a one-dimensional `numpy array` and normalizes it (i.e. subtracts off the mean and divides by the standard deviation). Return the normalized array "
   ]
  },
  {
   "cell_type": "code",
   "execution_count": 85,
   "metadata": {},
   "outputs": [
    {
     "data": {
      "text/plain": [
       "array([-1.41421356, -0.70710678,  0.        ,  0.70710678,  1.41421356])"
      ]
     },
     "execution_count": 85,
     "metadata": {},
     "output_type": "execute_result"
    }
   ],
   "source": [
    "import numpy as np\n",
    "\n",
    "def np_func_1(n):\n",
    "    return ((n - n.mean()) / n.std())\n",
    "\n",
    "np_func_1(np.arange(5))"
   ]
  },
  {
   "cell_type": "markdown",
   "metadata": {},
   "source": [
    "Now create a version of `1` that takes in a two-dimensional `numpy array` and normalizes it along the columns (i.e. for each column subtract off its mean and divide by its standard deviation). Return the normalized array. "
   ]
  },
  {
   "cell_type": "code",
   "execution_count": 86,
   "metadata": {},
   "outputs": [
    {
     "data": {
      "text/plain": [
       "array([[-1.41421356, -0.76776695],\n",
       "       [ 0.58578644,  1.23223305],\n",
       "       [ 2.58578644,  3.23223305],\n",
       "       [ 4.58578644,  5.23223305],\n",
       "       [ 6.58578644,  7.23223305]])"
      ]
     },
     "execution_count": 86,
     "metadata": {},
     "output_type": "execute_result"
    }
   ],
   "source": [
    "def np_func_2(n):\n",
    "    return (n - n.mean(axis=0) / n.std(axis=0))\n",
    "\n",
    "np_func_2(np.arange(10).reshape(5,2))"
   ]
  },
  {
   "cell_type": "markdown",
   "metadata": {},
   "source": [
    "Write a function that creates a `numpy array` of an inputted shape, filled with an inputted number. Your function should have three parameters - `num_cols`, `num_rows`, and `fill_value`. As an example, if I called your function with `num_cols=4`, `num_rows=3`, and `fill_value=2`, then your function should output a 3 by 4 array of 2s. Return the newly created array.  "
   ]
  },
  {
   "cell_type": "code",
   "execution_count": 55,
   "metadata": {},
   "outputs": [
    {
     "data": {
      "text/plain": [
       "array([[2, 2, 2],\n",
       "       [2, 2, 2],\n",
       "       [2, 2, 2],\n",
       "       [2, 2, 2]])"
      ]
     },
     "execution_count": 55,
     "metadata": {},
     "output_type": "execute_result"
    }
   ],
   "source": [
    "def np_func_3(num_cols, num_rows, fill_value):\n",
    "    return np.array([fill_value for _ in range(num_rows * num_cols)]).reshape(num_rows, num_cols)\n",
    "\n",
    "np_func_3(3, 4, 2)"
   ]
  },
  {
   "cell_type": "markdown",
   "metadata": {},
   "source": [
    "Write a function that takes in a one-dimensional `numpy array`, an `int`, and a mathematical operator (either `+`, `-`, `/`, or `*`) as a string, and then performs the indicated operation on each element of the `array`, using the inputted `int`. For example, if I inputted a `numpy array`, 2, and `'*'`, you should multiply each element of the `array` by 2. If I inputted a `numpy array`, 5, and `'-'`, then you should subtract 5 from every element in the array. Return the resulting array. "
   ]
  },
  {
   "cell_type": "code",
   "execution_count": 56,
   "metadata": {},
   "outputs": [
    {
     "data": {
      "text/plain": [
       "array([20, 30, 40])"
      ]
     },
     "execution_count": 56,
     "metadata": {},
     "output_type": "execute_result"
    }
   ],
   "source": [
    "def np_func_4(array, num, operator):\n",
    "    if operator == '+':\n",
    "        a = array + num\n",
    "    elif operator == \"-\":\n",
    "        a = array - num        \n",
    "    elif operator == \"/\":\n",
    "        a = array / num\n",
    "    else: #*\n",
    "        a = array * num\n",
    "    \n",
    "    return a\n",
    "\n",
    "np_func_4(np.array([10,20,30]), 10, '+')"
   ]
  },
  {
   "cell_type": "markdown",
   "metadata": {},
   "source": [
    "Write a function that takes in one argument, an `int`, and creates a one-dimensional array that is the inputted number of elements long. Make the one-dimensional array full of random floating point numbers between 0 and 1 (**Hint**: Check out `numpy.random.random()`). Return the resulting array. "
   ]
  },
  {
   "cell_type": "code",
   "execution_count": 44,
   "metadata": {},
   "outputs": [
    {
     "data": {
      "text/plain": [
       "array([ 0.22923183,  0.51348291,  0.77124492,  0.2034322 ,  0.46802173])"
      ]
     },
     "execution_count": 44,
     "metadata": {},
     "output_type": "execute_result"
    }
   ],
   "source": [
    "import numpy as np\n",
    "\n",
    "def np_func_5(num):\n",
    "    return np.array([np.random.random() for _ in range(num)]) \n",
    "\n",
    "np_func_5(5)"
   ]
  },
  {
   "cell_type": "code",
   "execution_count": 88,
   "metadata": {},
   "outputs": [
    {
     "data": {
      "text/plain": [
       "array([ 0.58162261,  0.44169539,  0.62293663,  0.0421776 ,  0.65187727])"
      ]
     },
     "execution_count": 88,
     "metadata": {},
     "output_type": "execute_result"
    }
   ],
   "source": [
    "import numpy as np\n",
    "\n",
    "def np_func_5b(num):\n",
    "    return np.random.rand(num)\n",
    "\n",
    "np_func_5b(5)"
   ]
  },
  {
   "cell_type": "markdown",
   "metadata": {},
   "source": [
    "Now, alter your solution to `5` to take in two parameters that will denote the final shape of your array of random floating point numbers (so now you will potentially end up with a two-dimensional array). Name these parameters `num_rows` and `num_cols`. Return the resulting array. "
   ]
  },
  {
   "cell_type": "code",
   "execution_count": 45,
   "metadata": {},
   "outputs": [
    {
     "data": {
      "text/plain": [
       "array([[ 0.74068397,  0.27355634,  0.47534234,  0.13370679,  0.54055469],\n",
       "       [ 0.34314396,  0.73313048,  0.78869993,  0.91926869,  0.06625968],\n",
       "       [ 0.17736876,  0.87531484,  0.70722225,  0.28375736,  0.00851341],\n",
       "       [ 0.80789371,  0.45827081,  0.67295566,  0.90616918,  0.15908537],\n",
       "       [ 0.20352071,  0.47932698,  0.16081874,  0.24399131,  0.73417075]])"
      ]
     },
     "execution_count": 45,
     "metadata": {},
     "output_type": "execute_result"
    }
   ],
   "source": [
    "import numpy as np\n",
    "\n",
    "def np_func_6(num_rows, num_cols):\n",
    "    return np.array([np.random.random() for _ in range(num_rows * num_cols)]).reshape(num_rows, num_cols)\n",
    "\n",
    "np_func_6(5,5)"
   ]
  },
  {
   "cell_type": "code",
   "execution_count": 87,
   "metadata": {},
   "outputs": [
    {
     "data": {
      "text/plain": [
       "array([[ 0.36649528,  0.56871011,  0.87591233,  0.87098379],\n",
       "       [ 0.14526758,  0.10225472,  0.1577942 ,  0.19533961]])"
      ]
     },
     "execution_count": 87,
     "metadata": {},
     "output_type": "execute_result"
    }
   ],
   "source": [
    "import numpy as np\n",
    "\n",
    "def np_func_6b(num_rows, num_cols):\n",
    "    return np.random.rand(num_rows, num_cols)\n",
    "\n",
    "np_func_6b(2,4)"
   ]
  },
  {
   "cell_type": "markdown",
   "metadata": {},
   "source": [
    "Write a function that will take in a one-dimensional `numpy array`, as well as an `int`, and randomly sample the inputted integer number of elements from the inputted array (**Hint**: Check out `numpy.random.choice()`). Return the randomly sampled elements. "
   ]
  },
  {
   "cell_type": "code",
   "execution_count": 49,
   "metadata": {},
   "outputs": [
    {
     "data": {
      "text/plain": [
       "array([4, 3, 3])"
      ]
     },
     "execution_count": 49,
     "metadata": {},
     "output_type": "execute_result"
    }
   ],
   "source": [
    "import numpy as np\n",
    "\n",
    "def np_func_7(array, sample):   \n",
    "    return np.random.choice(array, sample)\n",
    "\n",
    "np_func_7(np.arange(10),3)"
   ]
  },
  {
   "cell_type": "markdown",
   "metadata": {},
   "source": [
    "Write a function that will take in a one-dimensional `numpy array` and replace the maximum element in it with a `0`. Return the resulting array. "
   ]
  },
  {
   "cell_type": "code",
   "execution_count": 92,
   "metadata": {},
   "outputs": [
    {
     "name": "stdout",
     "output_type": "stream",
     "text": [
      "[0 1 2 3 4 5 6 7 8 0]\n"
     ]
    },
    {
     "data": {
      "text/plain": [
       "array([20, 25,  0,  1,  2,  3])"
      ]
     },
     "execution_count": 92,
     "metadata": {},
     "output_type": "execute_result"
    }
   ],
   "source": [
    "import numpy as np\n",
    "\n",
    "def np_func_8(array):\n",
    "    array[array.argmax()]=0\n",
    "    return array\n",
    "\n",
    "print(np_func_8(np.arange(10)))\n",
    "np_func_8(np.array([20,25,60,1,2,3]))\n"
   ]
  },
  {
   "cell_type": "markdown",
   "metadata": {},
   "source": [
    "Write a function that takes in an `int`, creates a one-dimensional `numpy array` of the numbers from `0` up to `int`, and then returns the cumulative sum of all those numbers. "
   ]
  },
  {
   "cell_type": "code",
   "execution_count": 53,
   "metadata": {},
   "outputs": [
    {
     "data": {
      "text/plain": [
       "array([ 0,  1,  3,  6, 10, 15, 21, 28, 36, 45], dtype=int32)"
      ]
     },
     "execution_count": 53,
     "metadata": {},
     "output_type": "execute_result"
    }
   ],
   "source": [
    "import numpy as np\n",
    "\n",
    "def np_func_9(num):\n",
    "    return np.arange(num).cumsum()\n",
    "\n",
    "np_func_9(10)"
   ]
  },
  {
   "cell_type": "markdown",
   "metadata": {},
   "source": [
    "Write a function that takes in two two-dimensional `numpy arrays` and performs matrix multiplication, the dot product, between the two. You should construct it such that the first array is multiplied by the second (i.e. the number of columns of the first has to equal the number of rows of the second; you can assume that your inputs will meet this criteria). Return the result of the multiplication. "
   ]
  },
  {
   "cell_type": "code",
   "execution_count": 62,
   "metadata": {},
   "outputs": [
    {
     "name": "stdout",
     "output_type": "stream",
     "text": [
      "[[0 1 2]\n",
      " [3 4 5]\n",
      " [6 7 8]]\n",
      "[[0 1 2]\n",
      " [3 4 5]\n",
      " [6 7 8]]\n",
      "[[ 15  18  21]\n",
      " [ 42  54  66]\n",
      " [ 69  90 111]]\n",
      "[[0 1 2 3 4]\n",
      " [5 6 7 8 9]]\n",
      "[[0 1]\n",
      " [2 3]\n",
      " [4 5]\n",
      " [6 7]\n",
      " [8 9]]\n"
     ]
    },
    {
     "data": {
      "text/plain": [
       "array([[ 60,  70],\n",
       "       [160, 195]])"
      ]
     },
     "execution_count": 62,
     "metadata": {},
     "output_type": "execute_result"
    }
   ],
   "source": [
    "import numpy as np\n",
    "\n",
    "def np_func_10(array1, array2):\n",
    "    print(array1)\n",
    "    print(array2)\n",
    "    return np.dot(array1, array2)\n",
    "\n",
    "print(np_func_10(np.arange(9).reshape(3,3), np.arange(9).reshape(3,3)))\n",
    "np_func_10(np.arange(10).reshape(2,5), np.arange(10).reshape(5,2))"
   ]
  },
  {
   "cell_type": "markdown",
   "metadata": {},
   "source": [
    "Write a function that takes in two two-dimensional `numpy arrays` and performs element-wise multiplication between the two. You can assume that the two arrays are of the same size. Return the array resulting from the multiplication. "
   ]
  },
  {
   "cell_type": "code",
   "execution_count": 67,
   "metadata": {},
   "outputs": [
    {
     "name": "stdout",
     "output_type": "stream",
     "text": [
      "[[0 1 2]\n",
      " [3 4 5]\n",
      " [6 7 8]]\n",
      "[[0 1 2]\n",
      " [3 4 5]\n",
      " [6 7 8]]\n",
      "[[ 0  1  4]\n",
      " [ 9 16 25]\n",
      " [36 49 64]]\n",
      "[[0 1 2 3 4]\n",
      " [5 6 7 8 9]]\n",
      "[[0 1 2 3 4]\n",
      " [5 6 7 8 9]]\n"
     ]
    },
    {
     "data": {
      "text/plain": [
       "array([[ 0,  1,  4,  9, 16],\n",
       "       [25, 36, 49, 64, 81]])"
      ]
     },
     "execution_count": 67,
     "metadata": {},
     "output_type": "execute_result"
    }
   ],
   "source": [
    "import numpy as np\n",
    "\n",
    "def np_func_11(array1, array2):\n",
    "    print(array1)\n",
    "    print(array2)\n",
    "    return array1 * array2\n",
    "\n",
    "print(np_func_11(np.arange(9).reshape(3,3), np.arange(9).reshape(3,3)))\n",
    "np_func_11(np.arange(10).reshape(2,5), np.arange(10).reshape(2,5))"
   ]
  },
  {
   "cell_type": "markdown",
   "metadata": {},
   "source": [
    "Write a function that takes in a one-dimensional `numpy array` and returns the top 5 elements (you can assume it's an array of numbers). "
   ]
  },
  {
   "cell_type": "code",
   "execution_count": 79,
   "metadata": {},
   "outputs": [
    {
     "name": "stdout",
     "output_type": "stream",
     "text": [
      "[55 50 30 28 25 20 17 10  8  4]\n"
     ]
    },
    {
     "data": {
      "text/plain": [
       "array([55, 50, 30, 28, 25])"
      ]
     },
     "execution_count": 79,
     "metadata": {},
     "output_type": "execute_result"
    }
   ],
   "source": [
    "import numpy as np\n",
    "\n",
    "def np_func_12(array):\n",
    "    array = np.sort(array)[::-1]\n",
    "    print(array)\n",
    "    return array[0:5]\n",
    "    \n",
    "np_func_12(np.array([10,4,50,20,30,25,17,28,55,8]))"
   ]
  },
  {
   "cell_type": "markdown",
   "metadata": {},
   "source": [
    "Write a function that takes in a two-dimensional `numpy array` and returns the smallest 5 elements of each column (**Hint**: The `axis` parameter on the `numpy` function you use might come in handy here). "
   ]
  },
  {
   "cell_type": "code",
   "execution_count": 93,
   "metadata": {},
   "outputs": [
    {
     "name": "stdout",
     "output_type": "stream",
     "text": [
      "[[ 4  5  8 10 15 35 50]\n",
      " [ 2 17 25 28 30 33 55]]\n"
     ]
    },
    {
     "data": {
      "text/plain": [
       "array([ 2,  5,  8, 10, 15, 33, 50])"
      ]
     },
     "execution_count": 93,
     "metadata": {},
     "output_type": "execute_result"
    }
   ],
   "source": [
    "import numpy as np\n",
    "\n",
    "def np_func_13(array):\n",
    "    array = np.sort(array)\n",
    "    print(array)\n",
    "    return np.min(array, axis=0)\n",
    "    \n",
    "np_func_13(np.array([[10,4,50,15,8,35,5],[30,25,17,28,55,33,2]]))"
   ]
  },
  {
   "cell_type": "markdown",
   "metadata": {},
   "source": [
    "# Extra-Credit \n",
    "\n",
    "1. Write a function that takes in an integer, and does the following: \n",
    "\n",
    "* Creates an array of the numbers from 0 up to that inputted integer \n",
    "* Reshapes it to be the largest `n` * `n` array that it could be, discarding \n",
    "any elements that are extra (i.e. if you want to make a 10 x 10, but have 102 elements, discard the last 2)\n",
    "* Returns the cumulative sum of the column means"
   ]
  },
  {
   "cell_type": "code",
   "execution_count": null,
   "metadata": {
    "collapsed": true
   },
   "outputs": [],
   "source": []
  },
  {
   "cell_type": "code",
   "execution_count": null,
   "metadata": {
    "collapsed": true
   },
   "outputs": [],
   "source": []
  }
 ],
 "metadata": {
  "kernelspec": {
   "display_name": "Python 3",
   "language": "python",
   "name": "python3"
  },
  "language_info": {
   "codemirror_mode": {
    "name": "ipython",
    "version": 3
   },
   "file_extension": ".py",
   "mimetype": "text/x-python",
   "name": "python",
   "nbconvert_exporter": "python",
   "pygments_lexer": "ipython3",
   "version": "3.6.3"
  }
 },
 "nbformat": 4,
 "nbformat_minor": 2
}
